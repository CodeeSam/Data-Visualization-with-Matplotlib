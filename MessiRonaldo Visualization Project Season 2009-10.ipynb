{
 "cells": [
  {
   "cell_type": "code",
   "execution_count": 1,
   "id": "6cbab406",
   "metadata": {},
   "outputs": [],
   "source": [
    "import pandas as pd\n",
    "import numpy as np\n",
    "import seaborn as sns\n",
    "import matplotlib.pyplot as plt\n",
    "%matplotlib inline"
   ]
  },
  {
   "cell_type": "code",
   "execution_count": 2,
   "id": "37e44aa7",
   "metadata": {},
   "outputs": [
    {
     "data": {
      "text/html": [
       "<div>\n",
       "<style scoped>\n",
       "    .dataframe tbody tr th:only-of-type {\n",
       "        vertical-align: middle;\n",
       "    }\n",
       "\n",
       "    .dataframe tbody tr th {\n",
       "        vertical-align: top;\n",
       "    }\n",
       "\n",
       "    .dataframe thead th {\n",
       "        text-align: right;\n",
       "    }\n",
       "</style>\n",
       "<table border=\"1\" class=\"dataframe\">\n",
       "  <thead>\n",
       "    <tr style=\"text-align: right;\">\n",
       "      <th></th>\n",
       "      <th>Season</th>\n",
       "      <th>Player</th>\n",
       "      <th>Liga_Goals</th>\n",
       "      <th>Liga_Asts</th>\n",
       "      <th>Liga_Aps</th>\n",
       "      <th>Liga_Mins</th>\n",
       "      <th>CL_Goals</th>\n",
       "      <th>CL_Asts</th>\n",
       "      <th>CL_Aps</th>\n",
       "      <th>CL_Mins</th>\n",
       "    </tr>\n",
       "  </thead>\n",
       "  <tbody>\n",
       "    <tr>\n",
       "      <th>0</th>\n",
       "      <td>2017-18</td>\n",
       "      <td>Messi</td>\n",
       "      <td>34</td>\n",
       "      <td>12</td>\n",
       "      <td>36</td>\n",
       "      <td>2996</td>\n",
       "      <td>6</td>\n",
       "      <td>2</td>\n",
       "      <td>10</td>\n",
       "      <td>783</td>\n",
       "    </tr>\n",
       "    <tr>\n",
       "      <th>1</th>\n",
       "      <td>2017-18</td>\n",
       "      <td>Ronaldo</td>\n",
       "      <td>26</td>\n",
       "      <td>5</td>\n",
       "      <td>27</td>\n",
       "      <td>2297</td>\n",
       "      <td>15</td>\n",
       "      <td>3</td>\n",
       "      <td>13</td>\n",
       "      <td>1170</td>\n",
       "    </tr>\n",
       "    <tr>\n",
       "      <th>2</th>\n",
       "      <td>2016-17</td>\n",
       "      <td>Messi</td>\n",
       "      <td>37</td>\n",
       "      <td>9</td>\n",
       "      <td>34</td>\n",
       "      <td>2832</td>\n",
       "      <td>11</td>\n",
       "      <td>2</td>\n",
       "      <td>9</td>\n",
       "      <td>810</td>\n",
       "    </tr>\n",
       "    <tr>\n",
       "      <th>3</th>\n",
       "      <td>2016-17</td>\n",
       "      <td>Ronaldo</td>\n",
       "      <td>25</td>\n",
       "      <td>6</td>\n",
       "      <td>29</td>\n",
       "      <td>2544</td>\n",
       "      <td>12</td>\n",
       "      <td>5</td>\n",
       "      <td>13</td>\n",
       "      <td>1200</td>\n",
       "    </tr>\n",
       "    <tr>\n",
       "      <th>4</th>\n",
       "      <td>2015-16</td>\n",
       "      <td>Messi</td>\n",
       "      <td>26</td>\n",
       "      <td>16</td>\n",
       "      <td>33</td>\n",
       "      <td>2729</td>\n",
       "      <td>6</td>\n",
       "      <td>1</td>\n",
       "      <td>7</td>\n",
       "      <td>630</td>\n",
       "    </tr>\n",
       "    <tr>\n",
       "      <th>5</th>\n",
       "      <td>2015-16</td>\n",
       "      <td>Ronaldo</td>\n",
       "      <td>35</td>\n",
       "      <td>11</td>\n",
       "      <td>36</td>\n",
       "      <td>3184</td>\n",
       "      <td>16</td>\n",
       "      <td>4</td>\n",
       "      <td>12</td>\n",
       "      <td>1109</td>\n",
       "    </tr>\n",
       "    <tr>\n",
       "      <th>6</th>\n",
       "      <td>2014-15</td>\n",
       "      <td>Messi</td>\n",
       "      <td>43</td>\n",
       "      <td>21</td>\n",
       "      <td>38</td>\n",
       "      <td>3375</td>\n",
       "      <td>10</td>\n",
       "      <td>6</td>\n",
       "      <td>13</td>\n",
       "      <td>1145</td>\n",
       "    </tr>\n",
       "    <tr>\n",
       "      <th>7</th>\n",
       "      <td>2014-15</td>\n",
       "      <td>Ronaldo</td>\n",
       "      <td>48</td>\n",
       "      <td>16</td>\n",
       "      <td>35</td>\n",
       "      <td>3096</td>\n",
       "      <td>10</td>\n",
       "      <td>4</td>\n",
       "      <td>12</td>\n",
       "      <td>1064</td>\n",
       "    </tr>\n",
       "    <tr>\n",
       "      <th>8</th>\n",
       "      <td>2013-14</td>\n",
       "      <td>Messi</td>\n",
       "      <td>28</td>\n",
       "      <td>12</td>\n",
       "      <td>31</td>\n",
       "      <td>2498</td>\n",
       "      <td>8</td>\n",
       "      <td>1</td>\n",
       "      <td>7</td>\n",
       "      <td>630</td>\n",
       "    </tr>\n",
       "    <tr>\n",
       "      <th>9</th>\n",
       "      <td>2013-14</td>\n",
       "      <td>Ronaldo</td>\n",
       "      <td>31</td>\n",
       "      <td>11</td>\n",
       "      <td>30</td>\n",
       "      <td>2537</td>\n",
       "      <td>17</td>\n",
       "      <td>6</td>\n",
       "      <td>11</td>\n",
       "      <td>991</td>\n",
       "    </tr>\n",
       "    <tr>\n",
       "      <th>10</th>\n",
       "      <td>2012-13</td>\n",
       "      <td>Messi</td>\n",
       "      <td>46</td>\n",
       "      <td>14</td>\n",
       "      <td>32</td>\n",
       "      <td>2629</td>\n",
       "      <td>8</td>\n",
       "      <td>3</td>\n",
       "      <td>11</td>\n",
       "      <td>827</td>\n",
       "    </tr>\n",
       "    <tr>\n",
       "      <th>11</th>\n",
       "      <td>2012-13</td>\n",
       "      <td>Ronaldo</td>\n",
       "      <td>34</td>\n",
       "      <td>11</td>\n",
       "      <td>34</td>\n",
       "      <td>2716</td>\n",
       "      <td>12</td>\n",
       "      <td>1</td>\n",
       "      <td>12</td>\n",
       "      <td>1080</td>\n",
       "    </tr>\n",
       "    <tr>\n",
       "      <th>12</th>\n",
       "      <td>2011-12</td>\n",
       "      <td>Messi</td>\n",
       "      <td>50</td>\n",
       "      <td>20</td>\n",
       "      <td>37</td>\n",
       "      <td>3270</td>\n",
       "      <td>14</td>\n",
       "      <td>9</td>\n",
       "      <td>11</td>\n",
       "      <td>990</td>\n",
       "    </tr>\n",
       "    <tr>\n",
       "      <th>13</th>\n",
       "      <td>2011-12</td>\n",
       "      <td>Ronaldo</td>\n",
       "      <td>46</td>\n",
       "      <td>13</td>\n",
       "      <td>38</td>\n",
       "      <td>3353</td>\n",
       "      <td>10</td>\n",
       "      <td>4</td>\n",
       "      <td>10</td>\n",
       "      <td>930</td>\n",
       "    </tr>\n",
       "    <tr>\n",
       "      <th>14</th>\n",
       "      <td>2010-11</td>\n",
       "      <td>Messi</td>\n",
       "      <td>31</td>\n",
       "      <td>21</td>\n",
       "      <td>33</td>\n",
       "      <td>2862</td>\n",
       "      <td>12</td>\n",
       "      <td>4</td>\n",
       "      <td>13</td>\n",
       "      <td>1050</td>\n",
       "    </tr>\n",
       "    <tr>\n",
       "      <th>15</th>\n",
       "      <td>2010-11</td>\n",
       "      <td>Ronaldo</td>\n",
       "      <td>40</td>\n",
       "      <td>13</td>\n",
       "      <td>34</td>\n",
       "      <td>2914</td>\n",
       "      <td>6</td>\n",
       "      <td>4</td>\n",
       "      <td>12</td>\n",
       "      <td>1018</td>\n",
       "    </tr>\n",
       "    <tr>\n",
       "      <th>16</th>\n",
       "      <td>2009-10</td>\n",
       "      <td>Messi</td>\n",
       "      <td>34</td>\n",
       "      <td>13</td>\n",
       "      <td>35</td>\n",
       "      <td>2841</td>\n",
       "      <td>8</td>\n",
       "      <td>0</td>\n",
       "      <td>11</td>\n",
       "      <td>985</td>\n",
       "    </tr>\n",
       "    <tr>\n",
       "      <th>17</th>\n",
       "      <td>2009-10</td>\n",
       "      <td>Ronaldo</td>\n",
       "      <td>26</td>\n",
       "      <td>11</td>\n",
       "      <td>29</td>\n",
       "      <td>2462</td>\n",
       "      <td>7</td>\n",
       "      <td>2</td>\n",
       "      <td>6</td>\n",
       "      <td>450</td>\n",
       "    </tr>\n",
       "  </tbody>\n",
       "</table>\n",
       "</div>"
      ],
      "text/plain": [
       "     Season   Player  Liga_Goals  Liga_Asts  Liga_Aps  Liga_Mins  CL_Goals  \\\n",
       "0   2017-18    Messi          34         12        36       2996         6   \n",
       "1   2017-18  Ronaldo          26          5        27       2297        15   \n",
       "2   2016-17    Messi          37          9        34       2832        11   \n",
       "3   2016-17  Ronaldo          25          6        29       2544        12   \n",
       "4   2015-16    Messi          26         16        33       2729         6   \n",
       "5   2015-16  Ronaldo          35         11        36       3184        16   \n",
       "6   2014-15    Messi          43         21        38       3375        10   \n",
       "7   2014-15  Ronaldo          48         16        35       3096        10   \n",
       "8   2013-14    Messi          28         12        31       2498         8   \n",
       "9   2013-14  Ronaldo          31         11        30       2537        17   \n",
       "10  2012-13    Messi          46         14        32       2629         8   \n",
       "11  2012-13  Ronaldo          34         11        34       2716        12   \n",
       "12  2011-12    Messi          50         20        37       3270        14   \n",
       "13  2011-12  Ronaldo          46         13        38       3353        10   \n",
       "14  2010-11    Messi          31         21        33       2862        12   \n",
       "15  2010-11  Ronaldo          40         13        34       2914         6   \n",
       "16  2009-10    Messi          34         13        35       2841         8   \n",
       "17  2009-10  Ronaldo          26         11        29       2462         7   \n",
       "\n",
       "    CL_Asts  CL_Aps  CL_Mins  \n",
       "0         2      10      783  \n",
       "1         3      13     1170  \n",
       "2         2       9      810  \n",
       "3         5      13     1200  \n",
       "4         1       7      630  \n",
       "5         4      12     1109  \n",
       "6         6      13     1145  \n",
       "7         4      12     1064  \n",
       "8         1       7      630  \n",
       "9         6      11      991  \n",
       "10        3      11      827  \n",
       "11        1      12     1080  \n",
       "12        9      11      990  \n",
       "13        4      10      930  \n",
       "14        4      13     1050  \n",
       "15        4      12     1018  \n",
       "16        0      11      985  \n",
       "17        2       6      450  "
      ]
     },
     "execution_count": 2,
     "metadata": {},
     "output_type": "execute_result"
    }
   ],
   "source": [
    "df = pd.read_csv('MessiRonaldo.csv')\n",
    "df"
   ]
  },
  {
   "cell_type": "code",
   "execution_count": 3,
   "id": "289046bb",
   "metadata": {},
   "outputs": [
    {
     "data": {
      "text/html": [
       "<div>\n",
       "<style scoped>\n",
       "    .dataframe tbody tr th:only-of-type {\n",
       "        vertical-align: middle;\n",
       "    }\n",
       "\n",
       "    .dataframe tbody tr th {\n",
       "        vertical-align: top;\n",
       "    }\n",
       "\n",
       "    .dataframe thead th {\n",
       "        text-align: right;\n",
       "    }\n",
       "</style>\n",
       "<table border=\"1\" class=\"dataframe\">\n",
       "  <thead>\n",
       "    <tr style=\"text-align: right;\">\n",
       "      <th></th>\n",
       "      <th>Season</th>\n",
       "      <th>Player</th>\n",
       "      <th>Liga_Goals</th>\n",
       "      <th>Liga_Asts</th>\n",
       "      <th>Liga_Aps</th>\n",
       "      <th>Liga_Mins</th>\n",
       "      <th>CL_Goals</th>\n",
       "      <th>CL_Asts</th>\n",
       "      <th>CL_Aps</th>\n",
       "      <th>CL_Mins</th>\n",
       "    </tr>\n",
       "  </thead>\n",
       "  <tbody>\n",
       "    <tr>\n",
       "      <th>16</th>\n",
       "      <td>2009-10</td>\n",
       "      <td>Messi</td>\n",
       "      <td>34</td>\n",
       "      <td>13</td>\n",
       "      <td>35</td>\n",
       "      <td>2841</td>\n",
       "      <td>8</td>\n",
       "      <td>0</td>\n",
       "      <td>11</td>\n",
       "      <td>985</td>\n",
       "    </tr>\n",
       "    <tr>\n",
       "      <th>17</th>\n",
       "      <td>2009-10</td>\n",
       "      <td>Ronaldo</td>\n",
       "      <td>26</td>\n",
       "      <td>11</td>\n",
       "      <td>29</td>\n",
       "      <td>2462</td>\n",
       "      <td>7</td>\n",
       "      <td>2</td>\n",
       "      <td>6</td>\n",
       "      <td>450</td>\n",
       "    </tr>\n",
       "  </tbody>\n",
       "</table>\n",
       "</div>"
      ],
      "text/plain": [
       "     Season   Player  Liga_Goals  Liga_Asts  Liga_Aps  Liga_Mins  CL_Goals  \\\n",
       "16  2009-10    Messi          34         13        35       2841         8   \n",
       "17  2009-10  Ronaldo          26         11        29       2462         7   \n",
       "\n",
       "    CL_Asts  CL_Aps  CL_Mins  \n",
       "16        0      11      985  \n",
       "17        2       6      450  "
      ]
     },
     "execution_count": 3,
     "metadata": {},
     "output_type": "execute_result"
    }
   ],
   "source": [
    "Season1 = df.iloc[16:18:, 0:11]\n",
    "Season1"
   ]
  },
  {
   "cell_type": "markdown",
   "id": "13256309",
   "metadata": {},
   "source": [
    "# Season 2009/10\n",
    "### La Liga Appearance VS UCL Appearance"
   ]
  },
  {
   "cell_type": "code",
   "execution_count": 4,
   "id": "3c1e17b7",
   "metadata": {},
   "outputs": [
    {
     "data": {
      "text/plain": [
       "([<matplotlib.patches.Wedge at 0x16c0f4d01c0>,\n",
       "  <matplotlib.patches.Wedge at 0x16c0f4d0b80>],\n",
       " [Text(-1.0831475468947, -0.5393434820742659, 'Messi'),\n",
       "  Text(1.1279056574058843, 0.5616305084232875, 'Ronaldo')],\n",
       " [Text(-0.5908077528516545, -0.29418735385869044, '64.7%'),\n",
       "  Text(0.6355658863160141, 0.3164743341115351, '35.3%')])"
      ]
     },
     "execution_count": 4,
     "metadata": {},
     "output_type": "execute_result"
    },
    {
     "data": {
      "image/png": "[encoded data removed]",
      "text/plain": [
       "<Figure size 432x288 with 2 Axes>"
      ]
     },
     "metadata": {},
     "output_type": "display_data"
    }
   ],
   "source": [
    "fig, ax = plt.subplots(1,2)\n",
    "\n",
    "fig.subplots_adjust(wspace=1, right=2)\n",
    "ax[0].pie(Season1.Liga_Aps, labels=Season1.Player, colors=('brown','red'), startangle=90, autopct='%1.1f%%', shadow=True, radius=1.1, explode=(0,0.05))\n",
    "ax[1].pie(Season1.CL_Aps, labels=Season1.Player, colors=('brown','red'), startangle=90, autopct='%1.1f%%', shadow=True, radius=1.1, explode=(0,0.05))"
   ]
  },
  {
   "cell_type": "markdown",
   "id": "db213593",
   "metadata": {},
   "source": [
    "### La Liga Minutes Played VS Champions League Minutes Played"
   ]
  },
  {
   "cell_type": "code",
   "execution_count": 5,
   "id": "4d7d2d6b",
   "metadata": {},
   "outputs": [
    {
     "data": {
      "text/plain": [
       "([<matplotlib.patches.Wedge at 0x16c0f5e2370>,\n",
       "  <matplotlib.patches.Wedge at 0x16c0f5e2d00>],\n",
       " [Text(-1.008371903122752, -0.6687945162698328, 'Messi'),\n",
       "  Text(1.0500401635823697, 0.6964306533057765, 'Ronaldo')],\n",
       " [Text(-0.5500210380669556, -0.3647970088744542, '68.6%'),\n",
       "  Text(0.5916892985265733, 0.39243314591039785, '31.4%')])"
      ]
     },
     "execution_count": 5,
     "metadata": {},
     "output_type": "execute_result"
    },
    {
     "data": {
      "image/png": "[encoded data removed]",
      "text/plain": [
       "<Figure size 432x288 with 2 Axes>"
      ]
     },
     "metadata": {},
     "output_type": "display_data"
    }
   ],
   "source": [
    "fig, ax = plt.subplots(1,2)\n",
    "\n",
    "fig.subplots_adjust(wspace=1, right=2)\n",
    "ax[0].pie(Season1.Liga_Mins, labels=Season1.Player, colors=('blue','pink'), startangle=90, autopct='%1.1f%%', shadow=True, radius=1.1, explode=(0,0.05))\n",
    "ax[1].pie(Season1.CL_Mins, labels=Season1.Player, colors=('blue','pink'), startangle=90, autopct='%1.1f%%', shadow=True, radius=1.1, explode=(0,0.05))"
   ]
  },
  {
   "cell_type": "markdown",
   "id": "8dec4200",
   "metadata": {},
   "source": [
    "### La Liga Goals VS Champions League Goals"
   ]
  },
  {
   "cell_type": "code",
   "execution_count": 6,
   "id": "a57f59ca",
   "metadata": {},
   "outputs": [
    {
     "data": {
      "text/plain": [
       "([<matplotlib.patches.Wedge at 0x16c0f67ec70>,\n",
       "  <matplotlib.patches.Wedge at 0x16c0f68b670>],\n",
       " [Text(-1.2033714823432038, -0.12647954571044576, 'Messi'),\n",
       "  Text(1.2530975643236977, 0.13170609054260404, 'Ronaldo')],\n",
       " [Text(-0.6563844449144748, -0.06898884311478859, '53.3%'),\n",
       "  Text(0.7061105322776391, 0.07421533673432448, '46.7%')])"
      ]
     },
     "execution_count": 6,
     "metadata": {},
     "output_type": "execute_result"
    },
    {
     "data": {
      "image/png": "[encoded data removed]",
      "text/plain": [
       "<Figure size 432x288 with 2 Axes>"
      ]
     },
     "metadata": {},
     "output_type": "display_data"
    }
   ],
   "source": [
    "fig, ax = plt.subplots(1,2)\n",
    "\n",
    "fig.subplots_adjust(wspace=1, right=2)\n",
    "ax[0].pie(Season1.Liga_Goals, labels=Season1.Player, colors=('blue','pink'), startangle=90, autopct='%1.1f%%', shadow=True, radius=1.1, explode=(0,0.05))\n",
    "ax[1].pie(Season1.CL_Goals, labels=Season1.Player, colors=('blue','pink'), startangle=90, autopct='%1.1f%%', shadow=True, radius=1.1, explode=(0,0.05))"
   ]
  },
  {
   "cell_type": "markdown",
   "id": "bd0aa6d5",
   "metadata": {},
   "source": [
    "### La Liga Assists VS Champions League Assists"
   ]
  },
  {
   "cell_type": "code",
   "execution_count": 7,
   "id": "8f613087",
   "metadata": {},
   "outputs": [
    {
     "data": {
      "text/plain": [
       "([<matplotlib.patches.Wedge at 0x16c0f7208e0>,\n",
       "  <matplotlib.patches.Wedge at 0x16c0f7312b0>],\n",
       " [Text(7.409113134841488e-17, 1.2100000000000002, 'Messi'),\n",
       "  Text(-2.314582450388498e-16, -1.2600000000000002, 'Ronaldo')],\n",
       " [Text(4.041334437186266e-17, 0.66, '0.0%'),\n",
       "  Text(-1.304248841091931e-16, -0.7100000000000001, '100.0%')])"
      ]
     },
     "execution_count": 7,
     "metadata": {},
     "output_type": "execute_result"
    },
    {
     "data": {
      "image/png": "[encoded data removed]",
      "text/plain": [
       "<Figure size 432x288 with 2 Axes>"
      ]
     },
     "metadata": {},
     "output_type": "display_data"
    }
   ],
   "source": [
    "fig, ax = plt.subplots(1,2)\n",
    "\n",
    "fig.subplots_adjust(wspace=1, right=2)\n",
    "ax[0].pie(Season1.Liga_Asts, labels=Season1.Player, colors=('blue','pink'), startangle=90, autopct='%1.1f%%', shadow=True, radius=1.1, explode=(0,0.05))\n",
    "ax[1].pie(Season1.CL_Asts, labels=Season1.Player, colors=('blue','pink'), startangle=90, autopct='%1.1f%%', shadow=True, radius=1.1, explode=(0,0.05))"
   ]
  },
  {
   "cell_type": "markdown",
   "id": "af7db0df",
   "metadata": {},
   "source": []
  }
 ],
 "metadata": {
  "kernelspec": {
   "display_name": "Python 3 (ipykernel)",
   "language": "python",
   "name": "python3"
  },
  "language_info": {
   "codemirror_mode": {
    "name": "ipython",
    "version": 3
   },
   "file_extension": ".py",
   "mimetype": "text/x-python",
   "name": "python",
   "nbconvert_exporter": "python",
   "pygments_lexer": "ipython3",
   "version": "3.9.12"
  }
 },
 "nbformat": 4,
 "nbformat_minor": 5
}
